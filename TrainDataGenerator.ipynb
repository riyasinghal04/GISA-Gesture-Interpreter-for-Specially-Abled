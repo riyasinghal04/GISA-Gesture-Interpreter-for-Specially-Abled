{
 "cells": [
  {
   "cell_type": "code",
   "execution_count": 2,
   "metadata": {},
   "outputs": [],
   "source": [
    "import tensorflow as tf,os,re,shutil,numpy as np,time,matplotlib.pyplot as plt\n",
    "from os import path as Path\n",
    "from PIL import Image\n",
    "from tensorflow.keras.preprocessing.image import ImageDataGenerator \n",
    "from tensorflow.keras.models import Sequential , load_model\n",
    "from tensorflow.keras import optimizers,backend as K \n",
    "from tensorflow.keras.layers import Dense,MaxPool2D,Conv2D,Flatten,AveragePooling2D,BatchNormalization,ZeroPadding2D,Input,Activation\n",
    "\n",
    "\n",
    "import numpy as np\n",
    "\n",
    "from matplotlib import style\n",
    "style.use('dark_background')\n",
    "\n",
    "import warnings"
   ]
  },
  {
   "cell_type": "code",
   "execution_count": 11,
   "metadata": {},
   "outputs": [
    {
     "name": "stdout",
     "output_type": "stream",
     "text": [
      "Found 1653 images belonging to 10 classes.\n",
      "Found 409 images belonging to 10 classes.\n"
     ]
    },
    {
     "data": {
      "text/plain": [
       "(<tensorflow.python.keras.preprocessing.image.ImageDataGenerator at 0x7efdd82e6190>,\n",
       " <keras_preprocessing.image.directory_iterator.DirectoryIterator at 0x7efe145186d0>,\n",
       " <keras_preprocessing.image.directory_iterator.DirectoryIterator at 0x7efe143dc690>)"
      ]
     },
     "execution_count": 11,
     "metadata": {},
     "output_type": "execute_result"
    }
   ],
   "source": [
    "def create_train_and_validation(train_data_dir):\n",
    "    \n",
    "    class_mode='categorical'\n",
    "    img_width=100\n",
    "    img_height=100\n",
    "\n",
    "    train_datagen = ImageDataGenerator(rescale = 1./256,\n",
    "                                   rotation_range = 60,\n",
    "                                   width_shift_range=0.1,\n",
    "                                   height_shift_range=0.1,\n",
    "                                   zoom_range=10,\n",
    "                                   horizontal_flip=True,\n",
    "                                   vertical_flip=False,\n",
    "                                   data_format =\"channels_last\",validation_split=0.2) \n",
    "\n",
    "    train_generator = train_datagen.flow_from_directory(train_data_dir,\n",
    "                                                        target_size =(img_width, img_height),\n",
    "                                                        batch_size = 35,\n",
    "                                                        class_mode = class_mode,\n",
    "                                                        subset='training') \n",
    "\n",
    "    validation_generator = train_datagen.flow_from_directory(train_data_dir,\n",
    "                                                            target_size =(img_width, img_height),\n",
    "                                                            batch_size = 35,\n",
    "                                                            class_mode = class_mode,\n",
    "                                                            subset='validation') \n",
    "    return train_datagen,train_generator,validation_generator\n",
    "train_data_dir='/home/paa/Dataset'\n",
    "create_train_and_validation(train_data_dir)"
   ]
  },
  {
   "cell_type": "code",
   "execution_count": null,
   "metadata": {},
   "outputs": [],
   "source": []
  }
 ],
 "metadata": {
  "kernelspec": {
   "display_name": "Python 3",
   "language": "python",
   "name": "python3"
  },
  "language_info": {
   "codemirror_mode": {
    "name": "ipython",
    "version": 3
   },
   "file_extension": ".py",
   "mimetype": "text/x-python",
   "name": "python",
   "nbconvert_exporter": "python",
   "pygments_lexer": "ipython3",
   "version": "3.8.3"
  }
 },
 "nbformat": 4,
 "nbformat_minor": 2
}
