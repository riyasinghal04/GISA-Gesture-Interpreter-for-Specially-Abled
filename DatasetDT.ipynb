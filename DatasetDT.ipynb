{
 "cells": [
  {
   "cell_type": "code",
   "execution_count": 13,
   "metadata": {},
   "outputs": [],
   "source": [
    "import cv2\n",
    "import numpy as np\n",
    "j=1\n",
    "z=9\n",
    "for i in range(1,1200):\n",
    "    image=cv2.imread(\"/home/paa/Bdataset/\"+str(z)+\"/\" +str(i) +\".jpeg\")\n",
    "    image = cv2.cvtColor(image, cv2.COLOR_BGR2GRAY)\n",
    "    dist = cv2.distanceTransform(image, cv2.DIST_L2, 5)\n",
    "    cv2.normalize(dist, dist, 0,255, cv2.NORM_MINMAX)\n",
    "    cv2.imwrite(\"/home/paa/DDistance/\"+str(z)+\"/\" +str(j) +\".JPG\" ,dist)\n",
    "    j=j+1\n",
    "    "
   ]
  },
  {
   "cell_type": "code",
   "execution_count": 24,
   "metadata": {},
   "outputs": [
    {
     "name": "stderr",
     "output_type": "stream",
     "text": [
      "/home/paa/anaconda3/envs/opencv-env/lib/python2.7/site-packages/ipykernel_launcher.py:12: RuntimeWarning: divide by zero encountered in divide\n",
      "  if sys.path[0] == '':\n"
     ]
    }
   ],
   "source": [
    "import cv2\n",
    "import numpy as np\n",
    "j=1\n",
    "z=9\n",
    "for i in range(1,1200):\n",
    "    image=cv2.imread(\"/home/paa/Mydataset/\"+str(z)+\"/\"+str(i)+\".jpeg\")\n",
    "    hsv=cv2.cvtColor(image,cv2.COLOR_BGR2HSV)\n",
    "    ycbcr=cv2.cvtColor(image, cv2.COLOR_BGR2YCrCb)\n",
    "    b,g,r=cv2.split(image)\n",
    "    y,cr,cb=cv2.split(ycbcr)\n",
    "    h,s,v=cv2.split(hsv)\n",
    "    s=s/(h+s+v)\n",
    "    paa=((0<=h)*(h<=50)*(0.23<s)*(s<0.68)*(r>95)*(g>40)*(b>20)*(r>g)*(r>b)*(abs(r-g)>15))+((r>95)*(g>40)*(b>20)*(r>g)*(r>b)*(abs(r-g)>15)*(cr>135)*(cb>85)*(y>80)*(cr<=(1.5862*cb+20))*(cr>=(0.3448*cb+76.2069))*(cr>=(-4.5652*cb+234.5652))*(cr<=-1.15*cb+301.75)*(cr<=-2.2857*cb+432.85))\n",
    "    b=b*paa\n",
    "    g=g*paa\n",
    "    r=r*paa\n",
    "    new=cv2.merge((b,g,r))\n",
    "    paa=paa*255\n",
    "    new1=cv2.merge((paa,paa,paa))\n",
    "    cv2.imwrite(\"/home/paa/55.jpeg\",new1)\n",
    "    new1=cv2.imread(\"/home/paa/55.jpeg\")\n",
    "    new1 = cv2.cvtColor(new1, cv2.COLOR_BGR2GRAY)\n",
    "    dist = cv2.distanceTransform(new1, cv2.DIST_L2, 5)\n",
    "    cv2.normalize(dist, dist, 0, 255, cv2.NORM_MINMAX)\n",
    "    cv2.imwrite(\"/home/paa/DDistance/\"+str(z)+\"/\" +str(j) +\".JPG\" ,dist)\n",
    "    j=j+1"
   ]
  },
  {
   "cell_type": "code",
   "execution_count": null,
   "metadata": {},
   "outputs": [],
   "source": []
  }
 ],
 "metadata": {
  "kernelspec": {
   "display_name": "Python 3",
   "language": "python",
   "name": "python3"
  },
  "language_info": {
   "codemirror_mode": {
    "name": "ipython",
    "version": 3
   },
   "file_extension": ".py",
   "mimetype": "text/x-python",
   "name": "python",
   "nbconvert_exporter": "python",
   "pygments_lexer": "ipython3",
   "version": "3.8.3"
  }
 },
 "nbformat": 4,
 "nbformat_minor": 2
}
