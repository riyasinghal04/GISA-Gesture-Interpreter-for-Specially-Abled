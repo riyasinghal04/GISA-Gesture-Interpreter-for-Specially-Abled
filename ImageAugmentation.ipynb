{
 "cells": [
  {
   "cell_type": "code",
   "execution_count": 24,
   "metadata": {},
   "outputs": [
    {
     "name": "stdout",
     "output_type": "stream",
     "text": [
      "(100, 100, 3)\n"
     ]
    }
   ],
   "source": [
    "import cv2\n",
    "import numpy as np\n",
    "def flip_image(image,direction):\n",
    "    image=cv2.flip(image,direction)\n",
    "    cv2.imwrite(\"\"/home/paa/flip/0/\"+i\".jpg\",image)\n",
    "def rotate_image(image,deg):\n",
    "    rows, cols,c = image.shape\n",
    "    M = cv2.getRotationMatrix2D((cols/2,rows/2), deg, 1)\n",
    "    image = cv2.warpAffine(image, M, (cols, rows))\n",
    "    cv2.imwrite(\"/home/paa/A/5/\"+\"rotate\"+\".jpg\", image)\n",
    "image=cv2.imread(\"/home/paa/sign/Dataset/1/1(3).JPG\")\n",
    "cv2.imshow(\"image\",image)\n",
    "cv2.waitKey(0)\n",
    "cv2.destroyAllWindows()\n",
    "print(image.shape)\n",
    "rotate_image(image,45)\n",
    "rotate_image(image,-45)\n",
    "flip_image(image,1)"
   ]
  },
  {
   "cell_type": "code",
   "execution_count": 63,
   "metadata": {},
   "outputs": [],
   "source": [
    "import cv2\n",
    "import numpy as np\n",
    "j=1\n",
    "z=9\n",
    "def flip_image(image,direction,j,z):\n",
    "    image=cv2.flip(image,direction)\n",
    "    cv2.imwrite(\"/home/paa/Newdataset/\" +str(z)+ \"/\" +str(j) +\".jpeg\" ,image)\n",
    "def rotate_image(image,deg,j,z):\n",
    "    rows, cols,c = image.shape\n",
    "    M = cv2.getRotationMatrix2D((cols/2,rows/2), deg, 1)\n",
    "    image = cv2.warpAffine(image, M, (cols, rows))\n",
    "    cv2.imwrite(\"/home/paa/Newdataset/\"+str(z)+\"/\"+str(j)+\".jpeg\", image) \n",
    "for i in range(1,205):\n",
    "    image=cv2.imread(\"/../../../home/paa/Dataset/\"+str(z)+\"/\" +str(i) +\".JPG\")\n",
    "    cv2.imwrite(\"/home/paa/Newdataset/\"+str(z)+\"/\" +str(j) +\".jpeg\" ,image)\n",
    "    j=j+1\n",
    "    darkimg=image[:,:,:]*.75 #darkiamage\n",
    "    cv2.imwrite(\"/home/paa/Newdataset/\"+str(z)+\"/\" +str(j) +\".jpeg\" ,darkimg)\n",
    "    j=j+1\n",
    "    brightimg=image[:,:,:]*1.1 #brightimage\n",
    "    cv2.imwrite(\"/home/paa/Newdataset/\"+str(z)+\"/\" +str(j) +\".jpeg\" ,brightimg)\n",
    "    j=j+1\n",
    "    flip_image(image,1,j,z)\n",
    "    j=j+1\n",
    "    rotate_image(image,20,j,z)\n",
    "    j=j+1\n",
    "    rotate_image(image,-20,j,z)\n",
    "    j=j+1\n",
    "    "
   ]
  }
 ],
 "metadata": {
  "kernelspec": {
   "display_name": "Python 3",
   "language": "python",
   "name": "python3"
  },
  "language_info": {
   "codemirror_mode": {
    "name": "ipython",
    "version": 3
   },
   "file_extension": ".py",
   "mimetype": "text/x-python",
   "name": "python",
   "nbconvert_exporter": "python",
   "pygments_lexer": "ipython3",
   "version": "3.8.3"
  }
 },
 "nbformat": 4,
 "nbformat_minor": 2
}
